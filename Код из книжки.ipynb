{
 "cells": [
  {
   "cell_type": "code",
   "execution_count": 1,
   "id": "a14b1269",
   "metadata": {},
   "outputs": [],
   "source": [
    "from tkinter import*\n",
    "root=Tk()\n",
    "root.mainloop()"
   ]
  },
  {
   "cell_type": "code",
   "execution_count": 73,
   "id": "ecd78a24",
   "metadata": {},
   "outputs": [],
   "source": [
    "from tkinter import *\n",
    "root1 = Tk()\n",
    "root2 = Tk()\n",
    "root1.after(500, root1.mainloop) # первый цикл запускаем в фоне\n",
    "root2.mainloop()"
   ]
  },
  {
   "cell_type": "code",
   "execution_count": 84,
   "id": "46df89b8",
   "metadata": {},
   "outputs": [],
   "source": [
    "from tkinter import * \n",
    "def button_clicked():\n",
    "    print(u\"Клик!\")\n",
    "root=Tk()\n",
    "# кнопка по умолчанию \n",
    "button1=Button()\n",
    "button1.pack()\n",
    "# кнопка с указанием родительского виджета и несколькими аргументами \n",
    "button2=Button(root,bg=\"red\",text=u\"Кликнименя!\",command=button_clicked)\n",
    "button2.pack()\n",
    "root.mainloop()"
   ]
  },
  {
   "cell_type": "code",
   "execution_count": 76,
   "id": "5ab778ce",
   "metadata": {},
   "outputs": [],
   "source": [
    "from tkinter import *\n",
    "import time\n",
    "def button_clicked():\n",
    "    # изменяем текст кнопки\n",
    "    button['text'] = time.strftime('%H:%M:%S')\n",
    "root=Tk()\n",
    "# создаём виджет\n",
    "button = Button(root)\n",
    "# конфигурируем виджет после создания\n",
    "button.configure(text=time.strftime('%H:%M:%S'),\n",
    "command=button_clicked)\n",
    "# также можно использовать квадратные скобки:\n",
    "# button['text'] = time.strftime('%H:%M:%S')\n",
    "# button['command'] = button_clicked\n",
    "button.pack()\n",
    "root.mainloop()"
   ]
  },
  {
   "cell_type": "code",
   "execution_count": 81,
   "id": "be16c875",
   "metadata": {},
   "outputs": [],
   "source": [
    "from tkinter import *\n",
    "from random import random\n",
    "def button_clicked():\n",
    "    button['text'] = button['bg'] # показываем предыдущий цвет кнопки\n",
    "    bg = '#%0x%0x%0x' % (int(random()*16), int(random()*16),\n",
    "int(random()*16))\n",
    "    button['bg'] = bg\n",
    "    button['activebackground'] = bg\n",
    "root=Tk()\n",
    "button = Button(root, command=button_clicked)\n",
    "button.pack()\n",
    "root.mainloop()"
   ]
  },
  {
   "cell_type": "code",
   "execution_count": 80,
   "id": "eff29b22",
   "metadata": {},
   "outputs": [],
   "source": [
    "from tkinter import *\n",
    "def hide_show():\n",
    "    if label.winfo_viewable():\n",
    "        label.grid_remove()\n",
    "    else:\n",
    "        label.grid()\n",
    "root=Tk()\n",
    "label = Label(text=u'Я здесь!')\n",
    "label.grid()\n",
    "button = Button(command=hide_show, text=u\"Спрятать/показать\")\n",
    "button.grid()\n",
    "root.mainloop()"
   ]
  },
  {
   "cell_type": "code",
   "execution_count": 17,
   "id": "a3bef948",
   "metadata": {},
   "outputs": [],
   "source": [
    "from tkinter import *\n",
    "root=Tk()\n",
    "root.after(200, root.grab_set_global)\n",
    "root.after(10000, root.grab_release)\n",
    "root.mainloop()"
   ]
  },
  {
   "cell_type": "code",
   "execution_count": 22,
   "id": "71c91cb6",
   "metadata": {},
   "outputs": [],
   "source": [
    "from tkinter import *\n",
    "import time\n",
    "def tick():\n",
    "    label.after(1000, tick)\n",
    "    label['text'] = time.strftime('%H:%M:%S')\n",
    "root=Tk()\n",
    "label = Label(font='sans 30')\n",
    "label.pack()\n",
    "label.after_idle(tick)\n",
    "root.mainloop()\n"
   ]
  },
  {
   "cell_type": "code",
   "execution_count": 27,
   "id": "2b525f52",
   "metadata": {},
   "outputs": [],
   "source": [
    "from tkinter import *\n",
    "root=Tk()\n",
    "root.eval('package require tile; ttk::style theme use clam')\n",
    "root.eval('ttk::button .b -text {ttk button}; pack .b')\n",
    "root.mainloop()"
   ]
  },
  {
   "cell_type": "code",
   "execution_count": 33,
   "id": "7f148127",
   "metadata": {},
   "outputs": [],
   "source": [
    "from tkinter import *\n",
    "root=Tk()\n",
    "button1=Button(root,text='ok',width=25,height=5,bg='black',fg='red',font='arial 14')\n",
    "button1.pack()\n",
    "root.mainloop()"
   ]
  },
  {
   "cell_type": "code",
   "execution_count": null,
   "id": "ed33ba83",
   "metadata": {},
   "outputs": [],
   "source": [
    "from tkinter import *\n",
    "root=Tk()\n",
    "text1=Text(root,height=7,width=7,font='Arial 14',wrap=WORD)\n",
    "text1.pack()\n",
    "root.mainloop()"
   ]
  },
  {
   "cell_type": "code",
   "execution_count": 38,
   "id": "b529e669",
   "metadata": {},
   "outputs": [],
   "source": [
    "from tkinter import *\n",
    "root=Tk()\n",
    "listbox1=Listbox(root,height=5,width=15,selectmode=EXTENDED)\n",
    "listbox2=Listbox(root,height=5,width=15,selectmode=SINGLE)\n",
    "list1=[u\"Москва\",u\"Санкт-Петербург\",u\"Саратов\",u\"Омск\"]\n",
    "list2=[u\"Канберра\",u\"Сидней\",u\"Мельбурн\",u\"Аделаида\"]\n",
    "for i in list1:\n",
    "    listbox1.insert(END,i)\n",
    "for i in list2:\n",
    "    listbox2.insert(END,i)\n",
    "listbox1.pack()\n",
    "listbox2.pack()\n",
    "root.mainloop()"
   ]
  },
  {
   "cell_type": "code",
   "execution_count": 4,
   "id": "349f1b4c",
   "metadata": {},
   "outputs": [],
   "source": [
    "from tkinter import *\n",
    "root=Tk()\n",
    "frame1=Frame(root,bg='green',bd=5)\n",
    "frame2=Frame(root,bg='red',bd=5)\n",
    "button1=Button(frame1,text=u'Первая кнопка')\n",
    "button2=Button(frame2,text=u'Вторая кнопка')\n",
    "frame1.pack()\n",
    "frame2.pack()\n",
    "button1.pack()\n",
    "button2.pack()\n",
    "root.mainloop()"
   ]
  },
  {
   "cell_type": "code",
   "execution_count": 43,
   "id": "713cb65b",
   "metadata": {},
   "outputs": [],
   "source": [
    "from tkinter import *\n",
    "root=Tk()\n",
    "var1=IntVar()\n",
    "var2=IntVar()\n",
    "check1=Checkbutton(root,text=u'1 пункт',variable=var1,onvalue=1,offvalue=0)\n",
    "check2=Checkbutton(root,text=u'2 пункт',variable=var2,onvalue=1,offvalue=0)\n",
    "check1.pack()\n",
    "check2.pack()\n",
    "root.mainloop()"
   ]
  },
  {
   "cell_type": "code",
   "execution_count": 44,
   "id": "b3c4675c",
   "metadata": {},
   "outputs": [],
   "source": [
    "from tkinter import *\n",
    "root=Tk()\n",
    "var=IntVar()\n",
    "rbutton1=Radiobutton(root,text='1',variable=var,value=1)\n",
    "rbutton2=Radiobutton(root,text='2',variable=var,value=2)\n",
    "rbutton3=Radiobutton(root,text='3',variable=var,value=3)\n",
    "rbutton1.pack()\n",
    "rbutton2.pack()\n",
    "rbutton3.pack()\n",
    "root.mainloop()"
   ]
  },
  {
   "cell_type": "code",
   "execution_count": 47,
   "id": "9733c129",
   "metadata": {},
   "outputs": [
    {
     "name": "stdout",
     "output_type": "stream",
     "text": [
      "Значение 60\n",
      "Значение 65\n",
      "Значение 70\n",
      "Значение 75\n",
      "Значение 50\n"
     ]
    }
   ],
   "source": [
    "from tkinter import *\n",
    "root = Tk()\n",
    "def getV(root):\n",
    "    a = scale1.get()\n",
    "    print (\"Значение\", a)\n",
    "scale1 = Scale(root,orient=HORIZONTAL,length=300,from_=50,to=80,tickinterval=5, resolution=5)\n",
    "button1 = Button(root,text=u\"Получить значение\")\n",
    "scale1.pack()\n",
    "button1.pack()\n",
    "button1.bind(\"<Button-1>\",getV)\n",
    "root.mainloop()"
   ]
  },
  {
   "cell_type": "code",
   "execution_count": 3,
   "id": "ea248f8f",
   "metadata": {},
   "outputs": [],
   "source": [
    "from tkinter import *\n",
    "root = Tk()\n",
    "text = Text(root, height=3, width=60)\n",
    "text.pack(side='left')\n",
    "scrollbar = Scrollbar(root)\n",
    "scrollbar.pack(side='left')\n",
    "# первая привязка\n",
    "scrollbar['command'] = text.yview\n",
    "# вторая привязка\n",
    "text['yscrollcommand'] = scrollbar.set\n",
    "root.mainloop()"
   ]
  },
  {
   "cell_type": "code",
   "execution_count": 49,
   "id": "ed3e1c2a",
   "metadata": {},
   "outputs": [],
   "source": [
    "from tkinter import *\n",
    "root=Tk()\n",
    "button1 = Button(text=\"1\")\n",
    "button2 = Button(text=\"2\")\n",
    "button3 = Button(text=\"3\")\n",
    "button4 = Button(text=\"4\")\n",
    "button5 = Button(text=\"5\")\n",
    "button1.pack(side='left')\n",
    "button2.pack(side='top')\n",
    "button3.pack(side='left')\n",
    "button4.pack(side='bottom')\n",
    "button5.pack(side='right')\n",
    "root.mainloop()"
   ]
  },
  {
   "cell_type": "code",
   "execution_count": 2,
   "id": "7b5b6ca3",
   "metadata": {},
   "outputs": [],
   "source": [
    "from tkinter import *\n",
    "root=Tk()\n",
    "text = Text(wrap=NONE)\n",
    "vscrollbar = Scrollbar(orient='vert', command=text.yview)\n",
    "text['yscrollcommand'] = vscrollbar.set\n",
    "hscrollbar = Scrollbar(orient='hor', command=text.xview)\n",
    "text['xscrollcommand'] = hscrollbar.set\n",
    "# размещаем виджеты\n",
    "text.grid(row=0, column=0, sticky='nsew')\n",
    "vscrollbar.grid(row=0, column=1, sticky='ns')\n",
    "hscrollbar.grid(row=1, column=0, sticky='ew')\n",
    "# конфигурируем упаковщик, чтобы текстовый виджет расширялся\n",
    "root.rowconfigure(0, weight=1)\n",
    "root.columnconfigure(0, weight=1)\n",
    "root.mainloop()"
   ]
  },
  {
   "cell_type": "code",
   "execution_count": 60,
   "id": "c2b51d69",
   "metadata": {},
   "outputs": [
    {
     "name": "stdout",
     "output_type": "stream",
     "text": [
      "Вы нажали левую кнопку мыши\n",
      "Вы нажали правую кнопку мыши\n",
      "Вы нажали левую кнопку мыши\n",
      "Вы нажали правую кнопку мыши\n",
      "Вы нажали левую кнопку мыши\n",
      "Вы нажали правую кнопку мыши\n",
      "Вы нажали левую кнопку мыши\n",
      "Вы нажали правую кнопку мыши\n",
      "Вы нажали левую кнопку мыши\n",
      "Вы нажали правую кнопку мыши\n"
     ]
    }
   ],
   "source": [
    "from tkinter import *\n",
    "root=Tk()\n",
    "def leftclick(event):\n",
    "    print(u'Вы нажали левую кнопку мыши')\n",
    "def rightclick(event):\n",
    "    print(u'Вы нажали правую кнопку мыши')\n",
    "button1=Button(root, text=u'Нажми')\n",
    "button1.pack()\n",
    "button1.bind('<Button-1>', leftclick)\n",
    "button1.bind('<Button-3>', rightclick)\n",
    "root.mainloop()"
   ]
  },
  {
   "cell_type": "code",
   "execution_count": 57,
   "id": "53d73ff4",
   "metadata": {},
   "outputs": [
    {
     "name": "stdout",
     "output_type": "stream",
     "text": [
      "Нажата кнопка 1\n",
      "Нажата кнопка 2\n",
      "Нажата кнопка 2\n",
      "Нажата кнопка 1\n",
      "Нажата кнопка 2\n"
     ]
    }
   ],
   "source": [
    "from tkinter import *\n",
    "def callback(e):\n",
    "    print(u'Нажата кнопка', e.widget['text'])\n",
    "root=Tk()\n",
    "button1 = Button(root, text='1')\n",
    "button1.pack()\n",
    "button2 = Button(root, text='2')\n",
    "button2.pack()\n",
    "root.bind_class('Button', '<1>', callback)\n",
    "root.mainloop()"
   ]
  },
  {
   "cell_type": "code",
   "execution_count": 64,
   "id": "e4d91080",
   "metadata": {},
   "outputs": [
    {
     "name": "stdout",
     "output_type": "stream",
     "text": [
      "callback4\n",
      "callback3\n",
      "callback2\n",
      "callback1\n",
      "callback4\n",
      "callback3\n",
      "callback2\n",
      "callback1\n",
      "callback4\n",
      "callback3\n",
      "callback2\n",
      "callback1\n",
      "callback4\n",
      "callback3\n",
      "callback2\n",
      "callback1\n",
      "callback4\n",
      "callback3\n",
      "callback2\n",
      "callback1\n",
      "callback4\n",
      "callback3\n",
      "callback2\n",
      "callback1\n"
     ]
    }
   ],
   "source": [
    "from tkinter import *\n",
    "def callback1(e): \n",
    "    print ('callback1')\n",
    "def callback2(e): \n",
    "    print ('callback2')\n",
    "def callback3(e): \n",
    "    print ('callback3')\n",
    "def callback4(e): \n",
    "    print ('callback4')\n",
    "root=Tk()\n",
    "button = Button(root)\n",
    "button.pack()\n",
    "button.bind('<1>', callback1)\n",
    "root.bind_class('Button', '<1>', callback2)\n",
    "root.bind('<1>', callback3)\n",
    "root.bind_all('<1>', callback4)\n",
    "button.bindtags(('all', root, 'Button', button))\n",
    "root.mainloop()\n"
   ]
  },
  {
   "cell_type": "code",
   "execution_count": 71,
   "id": "a20938d9",
   "metadata": {},
   "outputs": [],
   "source": [
    "import tkinter as tk\n",
    "import tkinter.ttk as ttk\n",
    "root = tk.Tk()\n",
    "frame = tk.Frame(root)\n",
    "frame.grid()\n",
    "combobox = ttk.Combobox(frame,values =[u\"ОДИН\",u\"ДВА\",u\"ТРИ\"],height=3)\n",
    "combobox.grid(column=0,row=0)\n",
    "root.mainloop()"
   ]
  },
  {
   "cell_type": "code",
   "execution_count": 72,
   "id": "e71625b5",
   "metadata": {},
   "outputs": [],
   "source": [
    "import tkinter as tk\n",
    "import tkinter.ttk as ttk\n",
    "root = tk.Tk()\n",
    "pb = ttk.Progressbar(root, length=100)\n",
    "pb.pack()\n",
    "pb.start(100)\n",
    "root.mainloop()\n"
   ]
  },
  {
   "cell_type": "code",
   "execution_count": null,
   "id": "d3afcd9a",
   "metadata": {},
   "outputs": [],
   "source": []
  }
 ],
 "metadata": {
  "kernelspec": {
   "display_name": "Python 3",
   "language": "python",
   "name": "python3"
  },
  "language_info": {
   "codemirror_mode": {
    "name": "ipython",
    "version": 3
   },
   "file_extension": ".py",
   "mimetype": "text/x-python",
   "name": "python",
   "nbconvert_exporter": "python",
   "pygments_lexer": "ipython3",
   "version": "3.8.8"
  }
 },
 "nbformat": 4,
 "nbformat_minor": 5
}
